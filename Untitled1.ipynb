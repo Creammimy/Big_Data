{
 "cells": [
  {
   "cell_type": "markdown",
   "id": "544a98d3-e931-42ba-b9e0-60753dc69507",
   "metadata": {},
   "source": [
    "# This is a test"
   ]
  },
  {
   "cell_type": "markdown",
   "id": "49ed4a2e-50fa-4387-9036-7bfa5f4dbc79",
   "metadata": {},
   "source": [
    "print function example"
   ]
  },
  {
   "cell_type": "code",
   "execution_count": null,
   "id": "24c936d3-f67a-4f8f-aa2f-637248e6f735",
   "metadata": {},
   "outputs": [],
   "source": [
    "#Print Function\n",
    "#funtion(parameter) \n",
    "print(\"Hello there\")"
   ]
  },
  {
   "cell_type": "code",
   "execution_count": null,
   "id": "498e7ea3-e136-48ee-88ca-1535ed3f0763",
   "metadata": {},
   "outputs": [],
   "source": []
  },
  {
   "cell_type": "code",
   "execution_count": 1,
   "id": "0b977d1d-e84f-4c3b-bcb4-ecaed4915c54",
   "metadata": {},
   "outputs": [
    {
     "name": "stdout",
     "output_type": "stream",
     "text": [
      "Hello there\n"
     ]
    }
   ],
   "source": [
    "#Case sensitive \n",
    "print(\"Hello there\")"
   ]
  },
  {
   "cell_type": "code",
   "execution_count": 2,
   "id": "156b8728-8ed9-4705-b154-af1de5169bb6",
   "metadata": {},
   "outputs": [
    {
     "name": "stdout",
     "output_type": "stream",
     "text": [
      "It was a dark and stormy night\n",
      "Suddenly a shot rang out!\n"
     ]
    }
   ],
   "source": [
    "#Print multiple Lines\n",
    "print(\"It was a dark and stormy night\")\n",
    "print(\"Suddenly a shot rang out!\")"
   ]
  },
  {
   "cell_type": "code",
   "execution_count": 3,
   "id": "e7ad38e2-e82b-4a60-bda4-f5b8c27924d4",
   "metadata": {},
   "outputs": [
    {
     "ename": "SyntaxError",
     "evalue": "unterminated string literal (detected at line 2) (2194563325.py, line 2)",
     "output_type": "error",
     "traceback": [
      "\u001b[1;36m  Cell \u001b[1;32mIn[3], line 2\u001b[1;36m\u001b[0m\n\u001b[1;33m    print(\"I want to print a double quote \" for some reason.\")\u001b[0m\n\u001b[1;37m                                                            ^\u001b[0m\n\u001b[1;31mSyntaxError\u001b[0m\u001b[1;31m:\u001b[0m unterminated string literal (detected at line 2)\n"
     ]
    }
   ],
   "source": [
    "#Print Escape Codes\n",
    "print(\"I want to print a double quote \" for some reason.\")\n",
    "print(\"The file is stored in C:\\new folder\")"
   ]
  },
  {
   "cell_type": "code",
   "execution_count": 5,
   "id": "d9b70ce4-e6e6-4133-91ef-a01eb90aaca0",
   "metadata": {},
   "outputs": [
    {
     "name": "stdout",
     "output_type": "stream",
     "text": [
      "I want to print a double quote \" for some reason.\n",
      "The file is stored in C:\\new folder\n"
     ]
    }
   ],
   "source": [
    "#Escape code (\\+...)\n",
    "print(\"I want to print a double quote \\\" for some reason.\")\n",
    "print(\"The file is stored in C:\\\\new folder\")"
   ]
  },
  {
   "cell_type": "markdown",
   "id": "da627c9c-6111-4d5b-944f-7dc1bbd4a7e0",
   "metadata": {},
   "source": [
    "'Single Quote \" Double Quote \\t tab \\r CR: Carrirage Return (move to the left) \\n LF: Linefeed(move down)"
   ]
  },
  {
   "cell_type": "code",
   "execution_count": 6,
   "id": "3687517d-09de-4378-96fe-b2f7d7485917",
   "metadata": {},
   "outputs": [
    {
     "name": "stdout",
     "output_type": "stream",
     "text": [
      "This \n",
      "is\n",
      "my\n",
      "sample.\n"
     ]
    }
   ],
   "source": [
    "print(\"This \\nis\\nmy\\nsample.\")"
   ]
  },
  {
   "cell_type": "code",
   "execution_count": 9,
   "id": "008faf7c-6658-42c1-aa1d-e195a0914ba6",
   "metadata": {},
   "outputs": [
    {
     "name": "stdout",
     "output_type": "stream",
     "text": [
      "2 + 3\n",
      "5\n",
      "Hello World\n"
     ]
    }
   ],
   "source": [
    "print(\"2 + 3\")\n",
    "print(2 +3)\n",
    "print(\"Hello World\")"
   ]
  },
  {
   "cell_type": "code",
   "execution_count": 10,
   "id": "64709a36-834a-45aa-a2d1-55004b45794e",
   "metadata": {},
   "outputs": [
    {
     "name": "stdout",
     "output_type": "stream",
     "text": [
      "You can print a statement surronded by double quotes.\n",
      "You can print a statement surronded by single quotes.\n",
      "If you want to print a double quote, you can by prepending it with\n",
      "a slash. \"That's great!\" he said.\n",
      "If you want to print a backslash, and this \\\\ dose two.\n",
      "a slash. So this \\ prints one backslash, you can by prepending it with\n",
      "You can print a blank line with a empty print statement.\n",
      "\n",
      "You can print a backslash n to print a new line. these\n",
      "are\n",
      "on\n",
      "new\n",
      "lines.\n",
      "You can print on multiple lines \n",
      "using triple quotes.\n",
      "Just in case\n",
      "you want to.\n"
     ]
    }
   ],
   "source": [
    "print(\"You can print a statement surronded by double quotes.\")\n",
    "print(\"You can print a statement surronded by single quotes.\")\n",
    "print(\"If you want to print a double quote, you can by prepending it with\")\n",
    "print(\"a slash. \\\"That's great!\\\" he said.\")\n",
    "print(\"If you want to print a backslash, and this \\\\\\\\ dose two.\")\n",
    "print(\"a slash. So this \\\\ prints one backslash, you can by prepending it with\")\n",
    "print(\"You can print a blank line with a empty print statement.\")\n",
    "print()\n",
    "print(\"You can print a backslash n to print a new line. these\\nare\\non\\nnew\\nlines.\")\n",
    "print(\"\"\"You can print on multiple lines \n",
    "using triple quotes.\n",
    "Just in case\n",
    "you want to.\"\"\")"
   ]
  },
  {
   "cell_type": "code",
   "execution_count": 12,
   "id": "2fdff894-51ba-4e2e-88fa-01875a55d67a",
   "metadata": {},
   "outputs": [
    {
     "name": "stdin",
     "output_type": "stream",
     "text": [
      "Enter your weight in kilogram : 48\n",
      "Enter your weight in centimeter : 165\n"
     ]
    },
    {
     "name": "stdout",
     "output_type": "stream",
     "text": [
      "your bmi : 17.63085399449036\n"
     ]
    }
   ],
   "source": [
    "kg = float(input(\"Enter your weight in kilogram :\"))\n",
    "cm = float(input(\"Enter your weight in centimeter :\"))\n",
    "kg = float(kg)\n",
    "m = float(cm/100)\n",
    "bmi = kg / (m ** 2)\n",
    "print(\"your bmi :\", bmi)"
   ]
  },
  {
   "cell_type": "code",
   "execution_count": 13,
   "id": "4b001bea-4bb2-4088-bb35-0e43715c0681",
   "metadata": {},
   "outputs": [
    {
     "name": "stdout",
     "output_type": "stream",
     "text": [
      "x = 1.0\n"
     ]
    }
   ],
   "source": [
    "#import library\n",
    "#Import the math library\n",
    "# This linr is done inly once, and at the very top\n",
    "# of the program.\n",
    "import math as m\n",
    "#CalcuLate x using sine and cosine\n",
    "x = m.sin(0) + m.cos(0)\n",
    "print(\"x =\", x)"
   ]
  },
  {
   "cell_type": "code",
   "execution_count": 15,
   "id": "29afbd57-82ba-4f14-a9c8-f7485c6b96d4",
   "metadata": {},
   "outputs": [
    {
     "name": "stdin",
     "output_type": "stream",
     "text": [
      "A : 3\n",
      "B : 4\n"
     ]
    },
    {
     "name": "stdout",
     "output_type": "stream",
     "text": [
      "C = 5.0\n"
     ]
    }
   ],
   "source": [
    "#รับ input ความยาวด้านของสามเหลี่ยม 2 ด้าน ทางคีย์บอด และหาค่าความยาวด้านตรงข้ามมุมฉากของสามเหลี่ยม\n",
    "import math as m\n",
    "a = float(input(\"A :\"))\n",
    "b = float(input(\"B :\"))\n",
    "แ = m.sqrt((a**2)+(b**2))\n",
    "print(\"C =\",c)\n"
   ]
  },
  {
   "cell_type": "code",
   "execution_count": 17,
   "id": "00c73afb-30ce-40b0-804d-7b265e1caa77",
   "metadata": {},
   "outputs": [
    {
     "name": "stdout",
     "output_type": "stream",
     "text": [
      "Mean : 3.7777777777777777\n",
      "Median : 4.0\n",
      "Mode : 2\n",
      "Min : 1\n",
      "Max : 6\n"
     ]
    }
   ],
   "source": [
    "import math as m\n",
    "import numpy as np\n",
    "import statistics as st\n",
    "N = [1,2,3,4,5,5,6,2,6]\n",
    "print(\"Mean :\", np.mean(N))\n",
    "print(\"Median :\", np.median(N))\n",
    "print(\"Mode :\", st.mode(N))\n",
    "print(\"Min :\", np.min(N))\n",
    "print(\"Max :\", np.max(N))"
   ]
  },
  {
   "cell_type": "code",
   "execution_count": null,
   "id": "4c9cf060-cc82-4ee6-ae4a-06dbddd44870",
   "metadata": {},
   "outputs": [],
   "source": []
  }
 ],
 "metadata": {
  "kernelspec": {
   "display_name": "Python 3 (ipykernel)",
   "language": "python",
   "name": "python3"
  },
  "language_info": {
   "codemirror_mode": {
    "name": "ipython",
    "version": 3
   },
   "file_extension": ".py",
   "mimetype": "text/x-python",
   "name": "python",
   "nbconvert_exporter": "python",
   "pygments_lexer": "ipython3",
   "version": "3.11.7"
  }
 },
 "nbformat": 4,
 "nbformat_minor": 5
}

{
 "cells": [
  {
   "cell_type": "markdown",
   "id": "922dd82d",
   "metadata": {},
   "source": [
    "# 640710493 ครีม แสงทอง"
   ]
  },
  {
   "cell_type": "markdown",
   "id": "2c1b49f2",
   "metadata": {},
   "source": [
    "ในการทำแบบฝึกหัดให้เพิ่ม cell ด้านล่างของโจทย์เพื่อเขียน code"
   ]
  },
  {
   "cell_type": "markdown",
   "id": "9ff829b2",
   "metadata": {},
   "source": [
    "1.สร้าง list เพื่อเก็บชื่อวิชา\n",
    "\"Database\", \"Data Mining\", \"Machine Learning\", \"Database\", \"Calculus\", \"Linear Algebra\" \n",
    "และพิมพ์ออกมา"
   ]
  },
  {
   "cell_type": "code",
   "execution_count": 1,
   "id": "f6608fd5-6179-416d-a09a-e82b55b9209f",
   "metadata": {},
   "outputs": [
    {
     "name": "stdout",
     "output_type": "stream",
     "text": [
      "['Database', 'Data Mining', 'Machine Learning', 'Database', 'Calculus', 'Linear Algebra']\n"
     ]
    }
   ],
   "source": [
    "List = [ \"Database\", \"Data Mining\", \"Machine Learning\", \"Database\", \"Calculus\", \"Linear Algebra\"]\n",
    "print(List)"
   ]
  },
  {
   "cell_type": "markdown",
   "id": "079c4d15",
   "metadata": {},
   "source": [
    "2.พิมพ์ขนาดของ List สร้าง"
   ]
  },
  {
   "cell_type": "code",
   "execution_count": 2,
   "id": "4baec692-6b8c-4b7f-8cfc-0199958ec9a5",
   "metadata": {},
   "outputs": [
    {
     "data": {
      "text/plain": [
       "6"
      ]
     },
     "execution_count": 2,
     "metadata": {},
     "output_type": "execute_result"
    }
   ],
   "source": [
    "len(List)"
   ]
  },
  {
   "cell_type": "markdown",
   "id": "0c9e4bb9",
   "metadata": {},
   "source": [
    "3.เพิ่มข้อมูล \"Deep Leaerning\" ต่อจาก index(ตำแหน่ง) สุดท้ายเก็บไว้ใน List ที่สร้าง"
   ]
  },
  {
   "cell_type": "code",
   "execution_count": 3,
   "id": "0b4e24fd-f3a0-45d7-a8cd-1d21fc04d3f7",
   "metadata": {},
   "outputs": [
    {
     "name": "stdout",
     "output_type": "stream",
     "text": [
      "['Database', 'Data Mining', 'Machine Learning', 'Database', 'Calculus', 'Linear Algebra', 'Deep Leaerning']\n"
     ]
    }
   ],
   "source": [
    "List.append(\"Deep Leaerning\")\n",
    "print(List)"
   ]
  },
  {
   "cell_type": "markdown",
   "id": "3c512f72",
   "metadata": {},
   "source": [
    "4.แสดงข้อมูล Machine Learning และ Database ใน list "
   ]
  },
  {
   "cell_type": "code",
   "execution_count": 5,
   "id": "23a76135-100c-4a26-bb6b-823975b78b51",
   "metadata": {},
   "outputs": [
    {
     "name": "stdout",
     "output_type": "stream",
     "text": [
      "['Machine Learning', 'Database']\n"
     ]
    }
   ],
   "source": [
    "print(List[2:4])"
   ]
  },
  {
   "cell_type": "markdown",
   "id": "9e15e6ed",
   "metadata": {},
   "source": [
    "5. สร้าง tuple จากรายชื่อผลไม้\n",
    "\"Orange\", \"Apple\", \"Grape\", \"Melon\""
   ]
  },
  {
   "cell_type": "code",
   "execution_count": 6,
   "id": "6e295770-ca4f-4bc7-87e7-0f7ee2a29cb9",
   "metadata": {},
   "outputs": [
    {
     "name": "stdout",
     "output_type": "stream",
     "text": [
      "('Orange', 'Apple', 'Grape', 'Melon')\n"
     ]
    }
   ],
   "source": [
    "T = (\"Orange\", \"Apple\", \"Grape\", \"Melon\")\n",
    "print(T)"
   ]
  },
  {
   "cell_type": "markdown",
   "id": "6d9fb978",
   "metadata": {},
   "source": [
    "6. เพิ่ม Cherry  เข้าไปใน tuple ที่สร้าง"
   ]
  },
  {
   "cell_type": "code",
   "execution_count": 8,
   "id": "567c016b-ae12-4c94-a45f-0ac97382b075",
   "metadata": {},
   "outputs": [
    {
     "name": "stdout",
     "output_type": "stream",
     "text": [
      "('Orange', 'Apple', 'Grape', 'Melon', 'Cherry')\n"
     ]
    }
   ],
   "source": [
    "T+='Cherry',\n",
    "print(T)"
   ]
  },
  {
   "cell_type": "markdown",
   "id": "5a2b5fd8",
   "metadata": {},
   "source": [
    "7. สร้าง Dictionaries จากข้อมูลด้านล่างด้วยรูปแบบ key,value กำหนดให้\n",
    "name : Loid,\n",
    "family name : Forger,\n",
    "year : 1964"
   ]
  },
  {
   "cell_type": "code",
   "execution_count": 10,
   "id": "ad5a042f-0abb-4c82-82aa-c305f724dc92",
   "metadata": {},
   "outputs": [
    {
     "name": "stdout",
     "output_type": "stream",
     "text": [
      "{'name': 'Loid', 'family name': 'Forger', 'year': '1964'}\n"
     ]
    }
   ],
   "source": [
    "D = {'name' : 'Loid', 'family name' : 'Forger', 'year' : '1964'}\n",
    "print(D)"
   ]
  },
  {
   "cell_type": "markdown",
   "id": "bff3f6a3",
   "metadata": {},
   "source": [
    "8.พิมพ์ค่า key และ value ทั้งหมดใน Dictionaries ที่สร้าง"
   ]
  },
  {
   "cell_type": "code",
   "execution_count": 17,
   "id": "9d084d37-bc28-48ea-a368-77ab6ce4fdcd",
   "metadata": {},
   "outputs": [
    {
     "name": "stdout",
     "output_type": "stream",
     "text": [
      "Key: name family name year \n",
      "Value: Loid Forger 1964 "
     ]
    }
   ],
   "source": [
    "print('Key:', end = ' ')\n",
    "for k in D.keys():\n",
    "    print(k, end = ' ')\n",
    "print()\n",
    "print('Value:', end = ' ')\n",
    "for v in D.values():\n",
    "    print(v, end = ' ')\n",
    "   "
   ]
  },
  {
   "cell_type": "markdown",
   "id": "6bb0e521",
   "metadata": {},
   "source": [
    "9.เปลี่ยนชื่อ (name) และปี (year) ใน Dictionaries เป็น Anya และ 2016"
   ]
  },
  {
   "cell_type": "code",
   "execution_count": 19,
   "id": "050f110d-d36d-4664-a47c-cb0faaca2758",
   "metadata": {},
   "outputs": [
    {
     "name": "stdout",
     "output_type": "stream",
     "text": [
      "{'name': 'Anya', 'family name': 'Forger', 'year': '2016'}\n"
     ]
    }
   ],
   "source": [
    "D.update({'name' :'Anya'})\n",
    "D.update({'year':'2016'})\n",
    "print(D)"
   ]
  },
  {
   "cell_type": "code",
   "execution_count": null,
   "id": "e4061858-d6a5-4a09-be49-04075bef3557",
   "metadata": {},
   "outputs": [],
   "source": []
  }
 ],
 "metadata": {
  "kernelspec": {
   "display_name": "Python 3 (ipykernel)",
   "language": "python",
   "name": "python3"
  },
  "language_info": {
   "codemirror_mode": {
    "name": "ipython",
    "version": 3
   },
   "file_extension": ".py",
   "mimetype": "text/x-python",
   "name": "python",
   "nbconvert_exporter": "python",
   "pygments_lexer": "ipython3",
   "version": "3.11.7"
  }
 },
 "nbformat": 4,
 "nbformat_minor": 5
}
